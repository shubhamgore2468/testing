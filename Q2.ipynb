{
 "cells": [
  {
   "cell_type": "code",
   "execution_count": 1,
   "id": "warming-twist",
   "metadata": {},
   "outputs": [
    {
     "name": "stdout",
     "output_type": "stream",
     "text": [
      "table table table table table table chair chair chair chair\n"
     ]
    }
   ],
   "source": [
    "a = input()"
   ]
  },
  {
   "cell_type": "code",
   "execution_count": 2,
   "id": "heated-patch",
   "metadata": {},
   "outputs": [],
   "source": [
    "b=a.split()"
   ]
  },
  {
   "cell_type": "code",
   "execution_count": 3,
   "id": "collaborative-ozone",
   "metadata": {},
   "outputs": [
    {
     "name": "stdout",
     "output_type": "stream",
     "text": [
      "['table', 'table', 'table', 'table', 'table', 'table', 'chair', 'chair', 'chair', 'chair'] "
     ]
    }
   ],
   "source": [
    "print(b, end= ' ')"
   ]
  },
  {
   "cell_type": "code",
   "execution_count": 12,
   "id": "needed-snapshot",
   "metadata": {},
   "outputs": [],
   "source": [
    "lis1= []\n",
    "count1= 0\n",
    "count2= 0\n",
    "def count(lis, a, b):\n",
    "    c1=lis.count(a)\n",
    "    c2=lis.count(b)\n",
    "    if c1>c2:\n",
    "        lis1.append(a)\n",
    "        lis1.append(b)\n",
    "    else:\n",
    "        lis1.append(b)\n",
    "        lis1.append(a)\n",
    "    return (lis1)"
   ]
  },
  {
   "cell_type": "code",
   "execution_count": 13,
   "id": "diverse-mexico",
   "metadata": {},
   "outputs": [
    {
     "name": "stdout",
     "output_type": "stream",
     "text": [
      "table\n"
     ]
    }
   ],
   "source": [
    "c = list(dict.fromkeys(b))\n",
    "print(b[0])"
   ]
  },
  {
   "cell_type": "code",
   "execution_count": 14,
   "id": "modified-exploration",
   "metadata": {},
   "outputs": [
    {
     "data": {
      "text/plain": [
       "['table', 'chair']"
      ]
     },
     "execution_count": 14,
     "metadata": {},
     "output_type": "execute_result"
    }
   ],
   "source": [
    "count(b, c[0], c[1])"
   ]
  },
  {
   "cell_type": "code",
   "execution_count": null,
   "id": "skilled-portuguese",
   "metadata": {},
   "outputs": [],
   "source": []
  }
 ],
 "metadata": {
  "kernelspec": {
   "display_name": "Python 3",
   "language": "python",
   "name": "python3"
  },
  "language_info": {
   "codemirror_mode": {
    "name": "ipython",
    "version": 3
   },
   "file_extension": ".py",
   "mimetype": "text/x-python",
   "name": "python",
   "nbconvert_exporter": "python",
   "pygments_lexer": "ipython3",
   "version": "3.7.9"
  }
 },
 "nbformat": 4,
 "nbformat_minor": 5
}
