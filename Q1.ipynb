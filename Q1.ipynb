{
 "cells": [
  {
   "cell_type": "code",
   "execution_count": 56,
   "id": "dental-guidance",
   "metadata": {},
   "outputs": [
    {
     "name": "stdout",
     "output_type": "stream",
     "text": [
      "Enter a sentence: the cat sat on the mat\n"
     ]
    }
   ],
   "source": [
    "s= input(\"Enter a sentence: \")"
   ]
  },
  {
   "cell_type": "code",
   "execution_count": 57,
   "id": "accurate-steering",
   "metadata": {},
   "outputs": [],
   "source": [
    "a= s.split()"
   ]
  },
  {
   "cell_type": "code",
   "execution_count": 58,
   "id": "floral-wheat",
   "metadata": {},
   "outputs": [
    {
     "name": "stdout",
     "output_type": "stream",
     "text": [
      "cat the on sat mat the "
     ]
    }
   ],
   "source": [
    "count = 0\n",
    "for i in range(0,len(a),2):\n",
    "    print(a[i+1], end = ' ')\n",
    "    print(a[i], end= ' ')"
   ]
  },
  {
   "cell_type": "code",
   "execution_count": null,
   "id": "amended-norman",
   "metadata": {},
   "outputs": [],
   "source": []
  }
 ],
 "metadata": {
  "kernelspec": {
   "display_name": "Python 3",
   "language": "python",
   "name": "python3"
  },
  "language_info": {
   "codemirror_mode": {
    "name": "ipython",
    "version": 3
   },
   "file_extension": ".py",
   "mimetype": "text/x-python",
   "name": "python",
   "nbconvert_exporter": "python",
   "pygments_lexer": "ipython3",
   "version": "3.7.9"
  }
 },
 "nbformat": 4,
 "nbformat_minor": 5
}
